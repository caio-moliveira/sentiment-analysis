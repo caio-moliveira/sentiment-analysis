{
 "cells": [
  {
   "cell_type": "code",
   "execution_count": 1,
   "metadata": {
    "colab": {
     "base_uri": "https://localhost:8080/"
    },
    "executionInfo": {
     "elapsed": 6362,
     "status": "ok",
     "timestamp": 1716691490081,
     "user": {
      "displayName": "Caio Oliveira",
      "userId": "01921506838875341927"
     },
     "user_tz": -60
    },
    "id": "4UAFYfrTiEZO",
    "outputId": "772b1b27-279b-406f-e838-0e3ecb7dd0dd"
   },
   "outputs": [],
   "source": [
    "#Importing all libraries\n",
    "\n",
    "import re\n",
    "import numpy as np\n",
    "import pandas as pd\n",
    "import matplotlib.pyplot as plt\n",
    "import seaborn as sns\n",
    "from collections import Counter\n",
    "\n",
    "# Scikit-learn libraries\n",
    "from sklearn.model_selection import train_test_split\n",
    "from sklearn.preprocessing import OneHotEncoder\n",
    "from sklearn.pipeline import Pipeline\n",
    "from sklearn.feature_extraction.text import CountVectorizer, TfidfTransformer\n",
    "from sklearn.metrics import confusion_matrix, classification_report\n",
    "\n",
    "# TensorFlow and Keras libraries\n",
    "import tensorflow as tf\n",
    "from tensorflow.keras import Sequential\n",
    "from tensorflow.keras.layers import Dense, Dropout, Activation\n",
    "from tensorflow.keras.optimizers import Adam\n",
    "from tensorflow.keras.callbacks import EarlyStopping\n",
    "\n",
    "# NLTK and TextBlob libraries\n",
    "import nltk\n",
    "from nltk.corpus import stopwords, wordnet\n",
    "from nltk.stem import WordNetLemmatizer\n",
    "from textblob import TextBlob, download_corpora\n",
    "\n",
    "# Imbalanced-learn library\n",
    "from imblearn.over_sampling import SMOTE"
   ]
  },
  {
   "cell_type": "code",
   "execution_count": 2,
   "metadata": {},
   "outputs": [
    {
     "name": "stderr",
     "output_type": "stream",
     "text": [
      "[nltk_data] Downloading package stopwords to\n",
      "[nltk_data]     C:\\Users\\35383\\AppData\\Roaming\\nltk_data...\n",
      "[nltk_data]   Package stopwords is already up-to-date!\n",
      "[nltk_data] Downloading package wordnet to\n",
      "[nltk_data]     C:\\Users\\35383\\AppData\\Roaming\\nltk_data...\n",
      "[nltk_data]   Package wordnet is already up-to-date!\n",
      "[nltk_data] Downloading package brown to\n",
      "[nltk_data]     C:\\Users\\35383\\AppData\\Roaming\\nltk_data...\n",
      "[nltk_data]   Package brown is already up-to-date!\n",
      "[nltk_data] Downloading package punkt to\n",
      "[nltk_data]     C:\\Users\\35383\\AppData\\Roaming\\nltk_data...\n",
      "[nltk_data]   Package punkt is already up-to-date!\n",
      "[nltk_data] Downloading package wordnet to\n",
      "[nltk_data]     C:\\Users\\35383\\AppData\\Roaming\\nltk_data...\n",
      "[nltk_data]   Package wordnet is already up-to-date!\n",
      "[nltk_data] Downloading package averaged_perceptron_tagger to\n",
      "[nltk_data]     C:\\Users\\35383\\AppData\\Roaming\\nltk_data...\n",
      "[nltk_data]   Package averaged_perceptron_tagger is already up-to-\n",
      "[nltk_data]       date!\n",
      "[nltk_data] Downloading package conll2000 to\n",
      "[nltk_data]     C:\\Users\\35383\\AppData\\Roaming\\nltk_data...\n",
      "[nltk_data]   Package conll2000 is already up-to-date!\n",
      "[nltk_data] Downloading package movie_reviews to\n",
      "[nltk_data]     C:\\Users\\35383\\AppData\\Roaming\\nltk_data...\n",
      "[nltk_data]   Package movie_reviews is already up-to-date!\n",
      "[nltk_data] Downloading package omw-1.4 to\n",
      "[nltk_data]     C:\\Users\\35383\\AppData\\Roaming\\nltk_data...\n",
      "[nltk_data]   Package omw-1.4 is already up-to-date!\n"
     ]
    },
    {
     "data": {
      "text/plain": [
       "True"
      ]
     },
     "execution_count": 2,
     "metadata": {},
     "output_type": "execute_result"
    }
   ],
   "source": [
    "# Download NLTK corpora\n",
    "nltk.download('stopwords')\n",
    "nltk.download('wordnet')\n",
    "download_corpora.download_all()\n",
    "nltk.download('omw-1.4')\n",
    "\n",
    "\n"
   ]
  },
  {
   "cell_type": "markdown",
   "metadata": {
    "colab": {
     "base_uri": "https://localhost:8080/",
     "height": 73
    },
    "executionInfo": {
     "elapsed": 19620,
     "status": "ok",
     "timestamp": 1716691509696,
     "user": {
      "displayName": "Caio Oliveira",
      "userId": "01921506838875341927"
     },
     "user_tz": -60
    },
    "id": "mhGhyAn6iKSi",
    "outputId": "756c15e7-84e1-4581-b611-fb3d004d2a7f"
   },
   "source": [
    "# Semantic Analysis\n",
    "Semantic Analysis is a Natural Language Processing approach. It refers to analyzing the relationship of words, sentences and entire text within a give context (Nitin Indurkhya and Damerau, 2010). Using Neural Network model goes beyond analyzing only the meaning and grammar of words. It requires a set of process to extract insights and analyse the sentiment on each sentence.\n",
    "\n",
    "This approach can be useful when apply to businesses that deal with customer satisfaction extracting information from unstructured data. Booking.com was used to retrieve information from a Hotel and gather guests reviews from 2021 to 2023.\n",
    "\n",
    "The use of TensorFlow and Keras was the choice for applying the model after going through a set of tasks aiming the best model performance accuracy."
   ]
  },
  {
   "cell_type": "code",
   "execution_count": 3,
   "metadata": {},
   "outputs": [],
   "source": [
    "file_path = 'reviews.csv'\n",
    "data_review = pd.read_csv(file_path)\n"
   ]
  },
  {
   "cell_type": "code",
   "execution_count": 4,
   "metadata": {
    "colab": {
     "base_uri": "https://localhost:8080/",
     "height": 310
    },
    "executionInfo": {
     "elapsed": 29,
     "status": "ok",
     "timestamp": 1716691509696,
     "user": {
      "displayName": "Caio Oliveira",
      "userId": "01921506838875341927"
     },
     "user_tz": -60
    },
    "id": "Zc32oKMJjJ7U",
    "outputId": "2192dae1-c3af-448b-f076-1be4ccaeb4cd"
   },
   "outputs": [
    {
     "data": {
      "text/html": [
       "<div>\n",
       "<style scoped>\n",
       "    .dataframe tbody tr th:only-of-type {\n",
       "        vertical-align: middle;\n",
       "    }\n",
       "\n",
       "    .dataframe tbody tr th {\n",
       "        vertical-align: top;\n",
       "    }\n",
       "\n",
       "    .dataframe thead th {\n",
       "        text-align: right;\n",
       "    }\n",
       "</style>\n",
       "<table border=\"1\" class=\"dataframe\">\n",
       "  <thead>\n",
       "    <tr style=\"text-align: right;\">\n",
       "      <th></th>\n",
       "      <th>Review date</th>\n",
       "      <th>Guest name</th>\n",
       "      <th>Reservation Number</th>\n",
       "      <th>Review title</th>\n",
       "      <th>Positive review</th>\n",
       "      <th>Negative review</th>\n",
       "      <th>Review score</th>\n",
       "      <th>Staff</th>\n",
       "      <th>Cleanliness</th>\n",
       "      <th>Location</th>\n",
       "      <th>Facilities</th>\n",
       "      <th>Comfort</th>\n",
       "      <th>Value for money</th>\n",
       "      <th>Property reply</th>\n",
       "    </tr>\n",
       "  </thead>\n",
       "  <tbody>\n",
       "    <tr>\n",
       "      <th>0</th>\n",
       "      <td>2021-05-26 13:52:54</td>\n",
       "      <td>Sarah</td>\n",
       "      <td>2.916039e+09</td>\n",
       "      <td>Great stay</td>\n",
       "      <td>Lovely staff, lovely clean hotel, great food</td>\n",
       "      <td>NaN</td>\n",
       "      <td>10.0</td>\n",
       "      <td>10.0</td>\n",
       "      <td>10.0</td>\n",
       "      <td>7.5</td>\n",
       "      <td>10.0</td>\n",
       "      <td>10.0</td>\n",
       "      <td>10.0</td>\n",
       "      <td>Thank you for taking the time to share your re...</td>\n",
       "    </tr>\n",
       "    <tr>\n",
       "      <th>1</th>\n",
       "      <td>2021-05-26 17:25:42</td>\n",
       "      <td>Diana</td>\n",
       "      <td>3.068738e+09</td>\n",
       "      <td>NaN</td>\n",
       "      <td>Location</td>\n",
       "      <td>NaN</td>\n",
       "      <td>9.0</td>\n",
       "      <td>10.0</td>\n",
       "      <td>7.5</td>\n",
       "      <td>10.0</td>\n",
       "      <td>10.0</td>\n",
       "      <td>10.0</td>\n",
       "      <td>10.0</td>\n",
       "      <td>Dear Diana,\\nThank you for the 9/10 rating.\\nI...</td>\n",
       "    </tr>\n",
       "    <tr>\n",
       "      <th>2</th>\n",
       "      <td>2021-05-27 13:25:33</td>\n",
       "      <td>ryane</td>\n",
       "      <td>2.505493e+09</td>\n",
       "      <td>Great hotel with helpful friendly staff.</td>\n",
       "      <td>NaN</td>\n",
       "      <td>NaN</td>\n",
       "      <td>10.0</td>\n",
       "      <td>10.0</td>\n",
       "      <td>10.0</td>\n",
       "      <td>10.0</td>\n",
       "      <td>10.0</td>\n",
       "      <td>10.0</td>\n",
       "      <td>10.0</td>\n",
       "      <td>NaN</td>\n",
       "    </tr>\n",
       "    <tr>\n",
       "      <th>3</th>\n",
       "      <td>2021-05-28 09:27:09</td>\n",
       "      <td>lorraine</td>\n",
       "      <td>3.332737e+09</td>\n",
       "      <td>NaN</td>\n",
       "      <td>The room was spotless and the food was fabulous.</td>\n",
       "      <td>NaN</td>\n",
       "      <td>9.0</td>\n",
       "      <td>10.0</td>\n",
       "      <td>7.5</td>\n",
       "      <td>10.0</td>\n",
       "      <td>10.0</td>\n",
       "      <td>10.0</td>\n",
       "      <td>10.0</td>\n",
       "      <td>Dear Lorraine,\\nThanks for the great review of...</td>\n",
       "    </tr>\n",
       "    <tr>\n",
       "      <th>4</th>\n",
       "      <td>2021-05-30 17:15:46</td>\n",
       "      <td>Mike</td>\n",
       "      <td>2.650766e+09</td>\n",
       "      <td>NaN</td>\n",
       "      <td>Great location, excellent food and friendly st...</td>\n",
       "      <td>NaN</td>\n",
       "      <td>10.0</td>\n",
       "      <td>10.0</td>\n",
       "      <td>10.0</td>\n",
       "      <td>10.0</td>\n",
       "      <td>7.5</td>\n",
       "      <td>10.0</td>\n",
       "      <td>10.0</td>\n",
       "      <td>Dear Mike, \\nThank you for the great review an...</td>\n",
       "    </tr>\n",
       "  </tbody>\n",
       "</table>\n",
       "</div>"
      ],
      "text/plain": [
       "           Review date Guest name  Reservation Number  \\\n",
       "0  2021-05-26 13:52:54      Sarah        2.916039e+09   \n",
       "1  2021-05-26 17:25:42      Diana        3.068738e+09   \n",
       "2  2021-05-27 13:25:33      ryane        2.505493e+09   \n",
       "3  2021-05-28 09:27:09   lorraine        3.332737e+09   \n",
       "4  2021-05-30 17:15:46       Mike        2.650766e+09   \n",
       "\n",
       "                               Review title  \\\n",
       "0                                Great stay   \n",
       "1                                       NaN   \n",
       "2  Great hotel with helpful friendly staff.   \n",
       "3                                       NaN   \n",
       "4                                       NaN   \n",
       "\n",
       "                                     Positive review Negative review  \\\n",
       "0       Lovely staff, lovely clean hotel, great food             NaN   \n",
       "1                                          Location              NaN   \n",
       "2                                                NaN             NaN   \n",
       "3  The room was spotless and the food was fabulous.              NaN   \n",
       "4  Great location, excellent food and friendly st...             NaN   \n",
       "\n",
       "   Review score  Staff  Cleanliness  Location  Facilities  Comfort  \\\n",
       "0          10.0   10.0         10.0       7.5        10.0     10.0   \n",
       "1           9.0   10.0          7.5      10.0        10.0     10.0   \n",
       "2          10.0   10.0         10.0      10.0        10.0     10.0   \n",
       "3           9.0   10.0          7.5      10.0        10.0     10.0   \n",
       "4          10.0   10.0         10.0      10.0         7.5     10.0   \n",
       "\n",
       "   Value for money                                     Property reply  \n",
       "0             10.0  Thank you for taking the time to share your re...  \n",
       "1             10.0  Dear Diana,\\nThank you for the 9/10 rating.\\nI...  \n",
       "2             10.0                                                NaN  \n",
       "3             10.0  Dear Lorraine,\\nThanks for the great review of...  \n",
       "4             10.0  Dear Mike, \\nThank you for the great review an...  "
      ]
     },
     "execution_count": 4,
     "metadata": {},
     "output_type": "execute_result"
    }
   ],
   "source": [
    "data_review.head()"
   ]
  },
  {
   "cell_type": "code",
   "execution_count": 5,
   "metadata": {
    "executionInfo": {
     "elapsed": 27,
     "status": "ok",
     "timestamp": 1716691509697,
     "user": {
      "displayName": "Caio Oliveira",
      "userId": "01921506838875341927"
     },
     "user_tz": -60
    },
    "id": "DZ0rBDN5i86v"
   },
   "outputs": [],
   "source": [
    "data_review = data_review.drop(['Review date', 'Guest name', 'Reservation Number','Review title','Staff','Cleanliness','Location','Facilities','Comfort','Value for money','Property reply' ], axis=1)\n",
    "data_review.dropna(inplace=True)"
   ]
  },
  {
   "cell_type": "markdown",
   "metadata": {},
   "source": [
    "## Applying Lemmatizer\n",
    "In the context of tokenization, another useful technique is word stemming, which is the process of\n",
    "transforming a word into its root form. It allows us to map related words to the same stem (Raschka and Mirjalili, 2019).\n",
    "The choice for WordNetLemmatizer() is the fact that it works better with different languages, which is very important in our case as we are dealing with hotel reviews and contain reviews in different languages."
   ]
  },
  {
   "cell_type": "code",
   "execution_count": 6,
   "metadata": {},
   "outputs": [],
   "source": [
    "lemmatizer = WordNetLemmatizer()\n",
    "\n",
    "def lemmatize_text(text):\n",
    "    words = text.split()\n",
    "    lemmatized_words = [lemmatizer.lemmatize(word, wordnet.VERB) for word in words]\n",
    "    return ' '.join(lemmatized_words)"
   ]
  },
  {
   "cell_type": "code",
   "execution_count": 7,
   "metadata": {},
   "outputs": [],
   "source": [
    "# merging reviews\n",
    "data_review['Review'] = data_review['Positive review'].fillna('') + ' ' + data_review['Negative review'].fillna('')"
   ]
  },
  {
   "cell_type": "code",
   "execution_count": 8,
   "metadata": {},
   "outputs": [],
   "source": [
    "# Apply lemmatization to the 'Review' column\n",
    "data_review['Review'] = data_review['Review'].apply(lemmatize_text)"
   ]
  },
  {
   "cell_type": "code",
   "execution_count": 9,
   "metadata": {},
   "outputs": [
    {
     "data": {
      "text/html": [
       "<div>\n",
       "<style scoped>\n",
       "    .dataframe tbody tr th:only-of-type {\n",
       "        vertical-align: middle;\n",
       "    }\n",
       "\n",
       "    .dataframe tbody tr th {\n",
       "        vertical-align: top;\n",
       "    }\n",
       "\n",
       "    .dataframe thead th {\n",
       "        text-align: right;\n",
       "    }\n",
       "</style>\n",
       "<table border=\"1\" class=\"dataframe\">\n",
       "  <thead>\n",
       "    <tr style=\"text-align: right;\">\n",
       "      <th></th>\n",
       "      <th>Positive review</th>\n",
       "      <th>Negative review</th>\n",
       "      <th>Review score</th>\n",
       "      <th>Review</th>\n",
       "    </tr>\n",
       "  </thead>\n",
       "  <tbody>\n",
       "    <tr>\n",
       "      <th>5</th>\n",
       "      <td>Everything was amazing staff room bar staff ð</td>\n",
       "      <td>Everything was great amazing time</td>\n",
       "      <td>10.0</td>\n",
       "      <td>Everything be amaze staff room bar staff ð ...</td>\n",
       "    </tr>\n",
       "    <tr>\n",
       "      <th>7</th>\n",
       "      <td>Location is great. Room was very clean and com...</td>\n",
       "      <td>Staff trying to come into our room with no rea...</td>\n",
       "      <td>8.0</td>\n",
       "      <td>Location be great. Room be very clean and comf...</td>\n",
       "    </tr>\n",
       "    <tr>\n",
       "      <th>8</th>\n",
       "      <td>Spotless clean food was great and staff where ...</td>\n",
       "      <td>Nothing got what you paid for couldn’t fault it</td>\n",
       "      <td>10.0</td>\n",
       "      <td>Spotless clean food be great and staff where v...</td>\n",
       "    </tr>\n",
       "    <tr>\n",
       "      <th>9</th>\n",
       "      <td>I really loved the room it was lovely and clean</td>\n",
       "      <td>I liked everything!!</td>\n",
       "      <td>10.0</td>\n",
       "      <td>I really love the room it be lovely and clean ...</td>\n",
       "    </tr>\n",
       "    <tr>\n",
       "      <th>10</th>\n",
       "      <td>Convenient location, clean and tidy with excel...</td>\n",
       "      <td>A little run down looking from the outside. Co...</td>\n",
       "      <td>8.0</td>\n",
       "      <td>Convenient location, clean and tidy with excel...</td>\n",
       "    </tr>\n",
       "  </tbody>\n",
       "</table>\n",
       "</div>"
      ],
      "text/plain": [
       "                                      Positive review  \\\n",
       "5    Everything was amazing staff room bar staff ð   \n",
       "7   Location is great. Room was very clean and com...   \n",
       "8   Spotless clean food was great and staff where ...   \n",
       "9     I really loved the room it was lovely and clean   \n",
       "10  Convenient location, clean and tidy with excel...   \n",
       "\n",
       "                                      Negative review  Review score  \\\n",
       "5                  Everything was great amazing time           10.0   \n",
       "7   Staff trying to come into our room with no rea...           8.0   \n",
       "8    Nothing got what you paid for couldn’t fault it           10.0   \n",
       "9                                I liked everything!!          10.0   \n",
       "10  A little run down looking from the outside. Co...           8.0   \n",
       "\n",
       "                                               Review  \n",
       "5   Everything be amaze staff room bar staff ð ...  \n",
       "7   Location be great. Room be very clean and comf...  \n",
       "8   Spotless clean food be great and staff where v...  \n",
       "9   I really love the room it be lovely and clean ...  \n",
       "10  Convenient location, clean and tidy with excel...  "
      ]
     },
     "execution_count": 9,
     "metadata": {},
     "output_type": "execute_result"
    }
   ],
   "source": [
    "data_review.head()"
   ]
  },
  {
   "cell_type": "markdown",
   "metadata": {},
   "source": [
    "## Applying TextBlob\n",
    "TextBlob is an open-source library in Python for processing textual data. It is a powerful package that simplifies the complexity of contextual data and extracts in-depth information from the text (Analytics Vidhya, 2018). TextBlob can handle a lot of different tasks such as Tokenization, Word frequencies, Lemmatization, Spelling correction, and so on. In our sentiment analysis case, TextBlob is useful for determining whether the input textual data has a positive, negative, or neutral tone."
   ]
  },
  {
   "cell_type": "code",
   "execution_count": 10,
   "metadata": {},
   "outputs": [],
   "source": [
    "def get_sentiment(text):\n",
    "    analysis = TextBlob(text)\n",
    "    if analysis.sentiment.polarity > 0:\n",
    "        return 'Positive'\n",
    "    elif analysis.sentiment.polarity == 0:\n",
    "        return 'Neutral'\n",
    "    else:\n",
    "        return 'Negative'"
   ]
  },
  {
   "cell_type": "code",
   "execution_count": 11,
   "metadata": {},
   "outputs": [],
   "source": [
    "# Apply sentiment analysis to 'Review' column\n",
    "data_review['Review Sentiment'] = data_review['Review'].apply(get_sentiment)"
   ]
  },
  {
   "cell_type": "code",
   "execution_count": 12,
   "metadata": {},
   "outputs": [
    {
     "data": {
      "text/html": [
       "<div>\n",
       "<style scoped>\n",
       "    .dataframe tbody tr th:only-of-type {\n",
       "        vertical-align: middle;\n",
       "    }\n",
       "\n",
       "    .dataframe tbody tr th {\n",
       "        vertical-align: top;\n",
       "    }\n",
       "\n",
       "    .dataframe thead th {\n",
       "        text-align: right;\n",
       "    }\n",
       "</style>\n",
       "<table border=\"1\" class=\"dataframe\">\n",
       "  <thead>\n",
       "    <tr style=\"text-align: right;\">\n",
       "      <th></th>\n",
       "      <th>Positive review</th>\n",
       "      <th>Negative review</th>\n",
       "      <th>Review score</th>\n",
       "      <th>Review</th>\n",
       "      <th>Review Sentiment</th>\n",
       "    </tr>\n",
       "  </thead>\n",
       "  <tbody>\n",
       "    <tr>\n",
       "      <th>5</th>\n",
       "      <td>Everything was amazing staff room bar staff ð</td>\n",
       "      <td>Everything was great amazing time</td>\n",
       "      <td>10.0</td>\n",
       "      <td>Everything be amaze staff room bar staff ð ...</td>\n",
       "      <td>Positive</td>\n",
       "    </tr>\n",
       "    <tr>\n",
       "      <th>7</th>\n",
       "      <td>Location is great. Room was very clean and com...</td>\n",
       "      <td>Staff trying to come into our room with no rea...</td>\n",
       "      <td>8.0</td>\n",
       "      <td>Location be great. Room be very clean and comf...</td>\n",
       "      <td>Positive</td>\n",
       "    </tr>\n",
       "    <tr>\n",
       "      <th>8</th>\n",
       "      <td>Spotless clean food was great and staff where ...</td>\n",
       "      <td>Nothing got what you paid for couldn’t fault it</td>\n",
       "      <td>10.0</td>\n",
       "      <td>Spotless clean food be great and staff where v...</td>\n",
       "      <td>Positive</td>\n",
       "    </tr>\n",
       "    <tr>\n",
       "      <th>9</th>\n",
       "      <td>I really loved the room it was lovely and clean</td>\n",
       "      <td>I liked everything!!</td>\n",
       "      <td>10.0</td>\n",
       "      <td>I really love the room it be lovely and clean ...</td>\n",
       "      <td>Positive</td>\n",
       "    </tr>\n",
       "    <tr>\n",
       "      <th>10</th>\n",
       "      <td>Convenient location, clean and tidy with excel...</td>\n",
       "      <td>A little run down looking from the outside. Co...</td>\n",
       "      <td>8.0</td>\n",
       "      <td>Convenient location, clean and tidy with excel...</td>\n",
       "      <td>Positive</td>\n",
       "    </tr>\n",
       "  </tbody>\n",
       "</table>\n",
       "</div>"
      ],
      "text/plain": [
       "                                      Positive review  \\\n",
       "5    Everything was amazing staff room bar staff ð   \n",
       "7   Location is great. Room was very clean and com...   \n",
       "8   Spotless clean food was great and staff where ...   \n",
       "9     I really loved the room it was lovely and clean   \n",
       "10  Convenient location, clean and tidy with excel...   \n",
       "\n",
       "                                      Negative review  Review score  \\\n",
       "5                  Everything was great amazing time           10.0   \n",
       "7   Staff trying to come into our room with no rea...           8.0   \n",
       "8    Nothing got what you paid for couldn’t fault it           10.0   \n",
       "9                                I liked everything!!          10.0   \n",
       "10  A little run down looking from the outside. Co...           8.0   \n",
       "\n",
       "                                               Review Review Sentiment  \n",
       "5   Everything be amaze staff room bar staff ð ...         Positive  \n",
       "7   Location be great. Room be very clean and comf...         Positive  \n",
       "8   Spotless clean food be great and staff where v...         Positive  \n",
       "9   I really love the room it be lovely and clean ...         Positive  \n",
       "10  Convenient location, clean and tidy with excel...         Positive  "
      ]
     },
     "execution_count": 12,
     "metadata": {},
     "output_type": "execute_result"
    }
   ],
   "source": [
    "data_review.head()"
   ]
  },
  {
   "cell_type": "code",
   "execution_count": 13,
   "metadata": {},
   "outputs": [
    {
     "data": {
      "text/plain": [
       "Review Sentiment\n",
       "Positive    1112\n",
       "Neutral      292\n",
       "Negative     107\n",
       "Name: count, dtype: int64"
      ]
     },
     "execution_count": 13,
     "metadata": {},
     "output_type": "execute_result"
    }
   ],
   "source": [
    "data_review['Review Sentiment'].value_counts()"
   ]
  },
  {
   "cell_type": "markdown",
   "metadata": {},
   "source": [
    "### Visualizing Findings"
   ]
  },
  {
   "cell_type": "code",
   "execution_count": 14,
   "metadata": {},
   "outputs": [],
   "source": [
    "data_review['Review score'] = data_review['Review score'].round().astype(int)"
   ]
  },
  {
   "cell_type": "code",
   "execution_count": 15,
   "metadata": {},
   "outputs": [
    {
     "data": {
      "text/plain": [
       "<Axes: xlabel='Review score', ylabel='count'>"
      ]
     },
     "execution_count": 15,
     "metadata": {},
     "output_type": "execute_result"
    },
    {
     "data": {
      "image/png": "[encoded data removed]",
      "text/plain": [
       "<Figure size 640x480 with 1 Axes>"
      ]
     },
     "metadata": {},
     "output_type": "display_data"
    }
   ],
   "source": [
    "# Visualization \n",
    "sns.set_style('whitegrid')\n",
    "sns.countplot(x='Review score',hue='Review score',data=data_review, palette='flare', legend=False)"
   ]
  },
  {
   "cell_type": "code",
   "execution_count": 16,
   "metadata": {},
   "outputs": [
    {
     "data": {
      "text/plain": [
       "<Axes: xlabel='Review Sentiment', ylabel='count'>"
      ]
     },
     "execution_count": 16,
     "metadata": {},
     "output_type": "execute_result"
    },
    {
     "data": {
      "image/png": "[encoded data removed]",
      "text/plain": [
       "<Figure size 640x480 with 1 Axes>"
      ]
     },
     "metadata": {},
     "output_type": "display_data"
    }
   ],
   "source": [
    "sns.set_style('whitegrid')\n",
    "sns.countplot(x='Review Sentiment',hue='Review Sentiment',data=data_review, palette='flare', legend=False)"
   ]
  },
  {
   "cell_type": "markdown",
   "metadata": {},
   "source": [
    "## Data Processing\n",
    "We will now remove all punctuation marks, lower all the letters, remove stopwords (e.g. the, and, is),and the Unicode emoji formats (e.g. Ã°ÂŸÂ‘Â, meaning \"thumbs up\") found in our dataset. To accomplish this task, we will use Python's regular expression (regex) library, re , as shown below:"
   ]
  },
  {
   "cell_type": "code",
   "execution_count": 17,
   "metadata": {},
   "outputs": [],
   "source": [
    "def get_text_processing(text):\n",
    "    # Remove unwanted characters and keep only letters and numbers\n",
    "    text = re.sub(r'[^A-Za-z0-9\\s]', '', text)\n",
    "\n",
    "    # Convert to lowercase\n",
    "    text = text.lower()\n",
    "\n",
    "    # Tokenize and remove stopwords\n",
    "    stpword = stopwords.words('english')\n",
    "    words = text.split()\n",
    "    return ' '.join([word for word in words if word not in stpword])"
   ]
  },
  {
   "cell_type": "code",
   "execution_count": 18,
   "metadata": {},
   "outputs": [],
   "source": [
    "data_review['Review'] = data_review['Review'].apply(get_text_processing)"
   ]
  },
  {
   "cell_type": "code",
   "execution_count": 19,
   "metadata": {},
   "outputs": [
    {
     "data": {
      "text/html": [
       "<div>\n",
       "<style scoped>\n",
       "    .dataframe tbody tr th:only-of-type {\n",
       "        vertical-align: middle;\n",
       "    }\n",
       "\n",
       "    .dataframe tbody tr th {\n",
       "        vertical-align: top;\n",
       "    }\n",
       "\n",
       "    .dataframe thead th {\n",
       "        text-align: right;\n",
       "    }\n",
       "</style>\n",
       "<table border=\"1\" class=\"dataframe\">\n",
       "  <thead>\n",
       "    <tr style=\"text-align: right;\">\n",
       "      <th></th>\n",
       "      <th>Positive review</th>\n",
       "      <th>Negative review</th>\n",
       "      <th>Review score</th>\n",
       "      <th>Review</th>\n",
       "      <th>Review Sentiment</th>\n",
       "    </tr>\n",
       "  </thead>\n",
       "  <tbody>\n",
       "    <tr>\n",
       "      <th>5</th>\n",
       "      <td>Everything was amazing staff room bar staff ð</td>\n",
       "      <td>Everything was great amazing time</td>\n",
       "      <td>10</td>\n",
       "      <td>everything amaze staff room bar staff everythi...</td>\n",
       "      <td>Positive</td>\n",
       "    </tr>\n",
       "    <tr>\n",
       "      <th>7</th>\n",
       "      <td>Location is great. Room was very clean and com...</td>\n",
       "      <td>Staff trying to come into our room with no rea...</td>\n",
       "      <td>8</td>\n",
       "      <td>location great room clean comfortable short st...</td>\n",
       "      <td>Positive</td>\n",
       "    </tr>\n",
       "    <tr>\n",
       "      <th>8</th>\n",
       "      <td>Spotless clean food was great and staff where ...</td>\n",
       "      <td>Nothing got what you paid for couldn’t fault it</td>\n",
       "      <td>10</td>\n",
       "      <td>spotless clean food great staff welcome helpfu...</td>\n",
       "      <td>Positive</td>\n",
       "    </tr>\n",
       "    <tr>\n",
       "      <th>9</th>\n",
       "      <td>I really loved the room it was lovely and clean</td>\n",
       "      <td>I liked everything!!</td>\n",
       "      <td>10</td>\n",
       "      <td>really love room lovely clean like everything</td>\n",
       "      <td>Positive</td>\n",
       "    </tr>\n",
       "    <tr>\n",
       "      <th>10</th>\n",
       "      <td>Convenient location, clean and tidy with excel...</td>\n",
       "      <td>A little run down looking from the outside. Co...</td>\n",
       "      <td>8</td>\n",
       "      <td>convenient location clean tidy excellent staff...</td>\n",
       "      <td>Positive</td>\n",
       "    </tr>\n",
       "  </tbody>\n",
       "</table>\n",
       "</div>"
      ],
      "text/plain": [
       "                                      Positive review  \\\n",
       "5    Everything was amazing staff room bar staff ð   \n",
       "7   Location is great. Room was very clean and com...   \n",
       "8   Spotless clean food was great and staff where ...   \n",
       "9     I really loved the room it was lovely and clean   \n",
       "10  Convenient location, clean and tidy with excel...   \n",
       "\n",
       "                                      Negative review  Review score  \\\n",
       "5                  Everything was great amazing time             10   \n",
       "7   Staff trying to come into our room with no rea...             8   \n",
       "8    Nothing got what you paid for couldn’t fault it             10   \n",
       "9                                I liked everything!!            10   \n",
       "10  A little run down looking from the outside. Co...             8   \n",
       "\n",
       "                                               Review Review Sentiment  \n",
       "5   everything amaze staff room bar staff everythi...         Positive  \n",
       "7   location great room clean comfortable short st...         Positive  \n",
       "8   spotless clean food great staff welcome helpfu...         Positive  \n",
       "9       really love room lovely clean like everything         Positive  \n",
       "10  convenient location clean tidy excellent staff...         Positive  "
      ]
     },
     "execution_count": 19,
     "metadata": {},
     "output_type": "execute_result"
    }
   ],
   "source": [
    "data_review.head()"
   ]
  },
  {
   "cell_type": "code",
   "execution_count": 20,
   "metadata": {},
   "outputs": [
    {
     "name": "stdout",
     "output_type": "stream",
     "text": [
      "<class 'pandas.core.frame.DataFrame'>\n",
      "Index: 1511 entries, 5 to 5284\n",
      "Data columns (total 5 columns):\n",
      " #   Column            Non-Null Count  Dtype \n",
      "---  ------            --------------  ----- \n",
      " 0   Positive review   1511 non-null   object\n",
      " 1   Negative review   1511 non-null   object\n",
      " 2   Review score      1511 non-null   int32 \n",
      " 3   Review            1511 non-null   object\n",
      " 4   Review Sentiment  1511 non-null   object\n",
      "dtypes: int32(1), object(4)\n",
      "memory usage: 64.9+ KB\n"
     ]
    }
   ],
   "source": [
    "data_review.info()"
   ]
  },
  {
   "cell_type": "code",
   "execution_count": 21,
   "metadata": {},
   "outputs": [],
   "source": [
    "data_model = data_review[['Review', 'Review Sentiment']]"
   ]
  },
  {
   "cell_type": "markdown",
   "metadata": {},
   "source": [
    "## One-Hot-Encoding\n",
    "The get_dummies function is a very simple way to encode the data. The get_dummies function automatically transforms all columns that are categorical. This method simply convert categorical variable into numerical, creating a binary column for each category indicating the presence or absence of that category (Müller and Guido, 2017)."
   ]
  },
  {
   "cell_type": "code",
   "execution_count": 22,
   "metadata": {},
   "outputs": [
    {
     "name": "stderr",
     "output_type": "stream",
     "text": [
      "C:\\Users\\35383\\AppData\\Local\\Temp\\ipykernel_29672\\2024612391.py:2: SettingWithCopyWarning: \n",
      "A value is trying to be set on a copy of a slice from a DataFrame\n",
      "\n",
      "See the caveats in the documentation: https://pandas.pydata.org/pandas-docs/stable/user_guide/indexing.html#returning-a-view-versus-a-copy\n",
      "  data_model.drop(['Review Sentiment'],axis=1,inplace=True)\n"
     ]
    },
    {
     "data": {
      "text/html": [
       "<div>\n",
       "<style scoped>\n",
       "    .dataframe tbody tr th:only-of-type {\n",
       "        vertical-align: middle;\n",
       "    }\n",
       "\n",
       "    .dataframe tbody tr th {\n",
       "        vertical-align: top;\n",
       "    }\n",
       "\n",
       "    .dataframe thead th {\n",
       "        text-align: right;\n",
       "    }\n",
       "</style>\n",
       "<table border=\"1\" class=\"dataframe\">\n",
       "  <thead>\n",
       "    <tr style=\"text-align: right;\">\n",
       "      <th></th>\n",
       "      <th>Review</th>\n",
       "      <th>Negative</th>\n",
       "      <th>Neutral</th>\n",
       "      <th>Positive</th>\n",
       "    </tr>\n",
       "  </thead>\n",
       "  <tbody>\n",
       "    <tr>\n",
       "      <th>5</th>\n",
       "      <td>everything amaze staff room bar staff everythi...</td>\n",
       "      <td>False</td>\n",
       "      <td>False</td>\n",
       "      <td>True</td>\n",
       "    </tr>\n",
       "    <tr>\n",
       "      <th>7</th>\n",
       "      <td>location great room clean comfortable short st...</td>\n",
       "      <td>False</td>\n",
       "      <td>False</td>\n",
       "      <td>True</td>\n",
       "    </tr>\n",
       "    <tr>\n",
       "      <th>8</th>\n",
       "      <td>spotless clean food great staff welcome helpfu...</td>\n",
       "      <td>False</td>\n",
       "      <td>False</td>\n",
       "      <td>True</td>\n",
       "    </tr>\n",
       "    <tr>\n",
       "      <th>9</th>\n",
       "      <td>really love room lovely clean like everything</td>\n",
       "      <td>False</td>\n",
       "      <td>False</td>\n",
       "      <td>True</td>\n",
       "    </tr>\n",
       "    <tr>\n",
       "      <th>10</th>\n",
       "      <td>convenient location clean tidy excellent staff...</td>\n",
       "      <td>False</td>\n",
       "      <td>False</td>\n",
       "      <td>True</td>\n",
       "    </tr>\n",
       "  </tbody>\n",
       "</table>\n",
       "</div>"
      ],
      "text/plain": [
       "                                               Review  Negative  Neutral  \\\n",
       "5   everything amaze staff room bar staff everythi...     False    False   \n",
       "7   location great room clean comfortable short st...     False    False   \n",
       "8   spotless clean food great staff welcome helpfu...     False    False   \n",
       "9       really love room lovely clean like everything     False    False   \n",
       "10  convenient location clean tidy excellent staff...     False    False   \n",
       "\n",
       "    Positive  \n",
       "5       True  \n",
       "7       True  \n",
       "8       True  \n",
       "9       True  \n",
       "10      True  "
      ]
     },
     "execution_count": 22,
     "metadata": {},
     "output_type": "execute_result"
    }
   ],
   "source": [
    "one_hot = pd.get_dummies(data_model[\"Review Sentiment\"])\n",
    "data_model.drop(['Review Sentiment'],axis=1,inplace=True)\n",
    "data_model = pd.concat([data_model,one_hot],axis=1)\n",
    "data_model.head()"
   ]
  },
  {
   "cell_type": "code",
   "execution_count": 23,
   "metadata": {},
   "outputs": [
    {
     "data": {
      "text/html": [
       "<div>\n",
       "<style scoped>\n",
       "    .dataframe tbody tr th:only-of-type {\n",
       "        vertical-align: middle;\n",
       "    }\n",
       "\n",
       "    .dataframe tbody tr th {\n",
       "        vertical-align: top;\n",
       "    }\n",
       "\n",
       "    .dataframe thead th {\n",
       "        text-align: right;\n",
       "    }\n",
       "</style>\n",
       "<table border=\"1\" class=\"dataframe\">\n",
       "  <thead>\n",
       "    <tr style=\"text-align: right;\">\n",
       "      <th></th>\n",
       "      <th>Review</th>\n",
       "      <th>Negative</th>\n",
       "      <th>Neutral</th>\n",
       "      <th>Positive</th>\n",
       "    </tr>\n",
       "  </thead>\n",
       "  <tbody>\n",
       "    <tr>\n",
       "      <th>5</th>\n",
       "      <td>everything amaze staff room bar staff everythi...</td>\n",
       "      <td>False</td>\n",
       "      <td>False</td>\n",
       "      <td>True</td>\n",
       "    </tr>\n",
       "    <tr>\n",
       "      <th>7</th>\n",
       "      <td>location great room clean comfortable short st...</td>\n",
       "      <td>False</td>\n",
       "      <td>False</td>\n",
       "      <td>True</td>\n",
       "    </tr>\n",
       "    <tr>\n",
       "      <th>8</th>\n",
       "      <td>spotless clean food great staff welcome helpfu...</td>\n",
       "      <td>False</td>\n",
       "      <td>False</td>\n",
       "      <td>True</td>\n",
       "    </tr>\n",
       "    <tr>\n",
       "      <th>9</th>\n",
       "      <td>really love room lovely clean like everything</td>\n",
       "      <td>False</td>\n",
       "      <td>False</td>\n",
       "      <td>True</td>\n",
       "    </tr>\n",
       "    <tr>\n",
       "      <th>10</th>\n",
       "      <td>convenient location clean tidy excellent staff...</td>\n",
       "      <td>False</td>\n",
       "      <td>False</td>\n",
       "      <td>True</td>\n",
       "    </tr>\n",
       "  </tbody>\n",
       "</table>\n",
       "</div>"
      ],
      "text/plain": [
       "                                               Review  Negative  Neutral  \\\n",
       "5   everything amaze staff room bar staff everythi...     False    False   \n",
       "7   location great room clean comfortable short st...     False    False   \n",
       "8   spotless clean food great staff welcome helpfu...     False    False   \n",
       "9       really love room lovely clean like everything     False    False   \n",
       "10  convenient location clean tidy excellent staff...     False    False   \n",
       "\n",
       "    Positive  \n",
       "5       True  \n",
       "7       True  \n",
       "8       True  \n",
       "9       True  \n",
       "10      True  "
      ]
     },
     "execution_count": 23,
     "metadata": {},
     "output_type": "execute_result"
    }
   ],
   "source": [
    "data_model.head()"
   ]
  },
  {
   "cell_type": "markdown",
   "metadata": {},
   "source": [
    "### Spliting Training and Test"
   ]
  },
  {
   "cell_type": "code",
   "execution_count": 24,
   "metadata": {},
   "outputs": [],
   "source": [
    "X = data_model['Review'].values\n",
    "y = data_model.drop('Review', axis=1).values"
   ]
  },
  {
   "cell_type": "code",
   "execution_count": 25,
   "metadata": {},
   "outputs": [],
   "source": [
    "X_train, X_test, y_train, y_test = train_test_split(X, y, test_size=0.20, random_state=42)"
   ]
  },
  {
   "cell_type": "markdown",
   "metadata": {},
   "source": [
    "### Tf-idf\n",
    "The term frequency–inverse document frequency (tf–idf) is a common method in text classification . The function of this method is to give high weight to any term that appears often in a particular document.\n",
    "\n",
    "There are two ways of applying the Tf-idf. Either applying CountVectorizer, which will produce a sparse matrix and use TfidfTransformer. Otherwise, TfidfVectorizer, which takes in the text data and does both the bag-of-words feature extraction and the tf–idf transformation. (Raschka and Mirjalili, 2019)"
   ]
  },
  {
   "cell_type": "code",
   "execution_count": 26,
   "metadata": {},
   "outputs": [],
   "source": [
    "vect = CountVectorizer()\n",
    "X_train = vect.fit_transform(X_train)\n",
    "X_test = vect.transform(X_test)"
   ]
  },
  {
   "cell_type": "code",
   "execution_count": 27,
   "metadata": {},
   "outputs": [],
   "source": [
    "tfidf = TfidfTransformer()\n",
    "X_train = tfidf.fit_transform(X_train)\n",
    "X_test = tfidf.transform(X_test)"
   ]
  },
  {
   "cell_type": "code",
   "execution_count": 28,
   "metadata": {},
   "outputs": [],
   "source": [
    "smote = SMOTE(random_state=42)\n",
    "X_resampled, y_resampled = smote.fit_resample(X_train, y_train)"
   ]
  },
  {
   "cell_type": "code",
   "execution_count": 29,
   "metadata": {},
   "outputs": [
    {
     "name": "stdout",
     "output_type": "stream",
     "text": [
      "Original dataset shape: Counter({2: 891, 1: 236, 0: 81})\n",
      "Resampled dataset shape: Counter({2: 891, 1: 891, 0: 891})\n"
     ]
    }
   ],
   "source": [
    "# Verify the distribution\n",
    "print(f\"Original dataset shape: {Counter(np.argmax(y_train, axis=1))}\")\n",
    "print(f\"Resampled dataset shape: {Counter(np.argmax(y_resampled, axis=1))}\")"
   ]
  },
  {
   "cell_type": "code",
   "execution_count": 30,
   "metadata": {},
   "outputs": [],
   "source": [
    "# Combine the resampled data into a DataFrame (Note: X_resampled needs to be converted to a dense format)\n",
    "data_balanced = pd.DataFrame(X_resampled.toarray(), columns=vect.get_feature_names_out())\n",
    "data_balanced = pd.concat([data_balanced, pd.DataFrame(y_resampled, columns=one_hot.columns)], axis=1)"
   ]
  },
  {
   "cell_type": "markdown",
   "metadata": {},
   "source": [
    "## Defining Keras Model\n",
    "We created a Sequential model (https://keras.io/models/sequential/) and added layers one at a time doing tests with as many combinations as we can until we are happy with our network architecture. The first thing to get right is to ensure the input layer has the right number of input features. This can be specified when creating the first layer with the input_dim argument and setting it to the shape of our dataset after all preparation. We ended up with three hidden layers (128, 64, and 32), and an output layer of 3, meaning we can get three possible solution (Positive, Negative and Neutral).\n",
    "\n",
    "We used activation function referred to as 'ReLU' on the three hidden layers and the 'softmax' function in the output layer. Softmax activation in the last layer is used to support multi-class classification, since here we have three class labels (which is why we have three neurons at the output layer)(Raschka and Mirjalili, 2019).\n",
    "\n",
    "We specified the loss function as 'categorical_crossentropy' to evaluate a set of weights, the optimizer was 'Adam', and the metric was 'accuracy'. An early stop function was used to avoid overfitting when training the model."
   ]
  },
  {
   "cell_type": "code",
   "execution_count": 31,
   "metadata": {},
   "outputs": [
    {
     "name": "stderr",
     "output_type": "stream",
     "text": [
      "C:\\Users\\35383\\anaconda3\\Lib\\site-packages\\keras\\src\\layers\\core\\dense.py:87: UserWarning: Do not pass an `input_shape`/`input_dim` argument to a layer. When using Sequential models, prefer using an `Input(shape)` object as the first layer in the model instead.\n",
      "  super().__init__(activity_regularizer=activity_regularizer, **kwargs)\n"
     ]
    }
   ],
   "source": [
    "model = Sequential()\n",
    "\n",
    "model.add(Dense(units=128, input_dim=X_resampled.shape[1], activation='relu'))\n",
    "model.add(Dropout(0.5))\n",
    "\n",
    "model.add(Dense(units=64,activation='relu'))\n",
    "model.add(Dropout(0.5))\n",
    "\n",
    "model.add(Dense(units=32,activation='relu'))\n",
    "model.add(Dropout(0.5))\n",
    "\n",
    "model.add(Dense(units=3, activation='softmax'))\n",
    "\n",
    "opt=tf.keras.optimizers.Adam(learning_rate=0.001)\n",
    "model.compile(loss='categorical_crossentropy', optimizer=opt, metrics=['accuracy'])\n",
    "\n",
    "early_stop = EarlyStopping(monitor='val_loss', mode='min', verbose=1, patience=3)"
   ]
  },
  {
   "cell_type": "code",
   "execution_count": 32,
   "metadata": {},
   "outputs": [
    {
     "name": "stdout",
     "output_type": "stream",
     "text": [
      "Epoch 1/20\n",
      "\u001b[1m11/11\u001b[0m \u001b[32m━━━━━━━━━━━━━━━━━━━━\u001b[0m\u001b[37m\u001b[0m \u001b[1m3s\u001b[0m 58ms/step - accuracy: 0.3694 - loss: 1.0983 - val_accuracy: 0.3861 - val_loss: 1.0953\n",
      "Epoch 2/20\n",
      "\u001b[1m11/11\u001b[0m \u001b[32m━━━━━━━━━━━━━━━━━━━━\u001b[0m\u001b[37m\u001b[0m \u001b[1m0s\u001b[0m 17ms/step - accuracy: 0.5148 - loss: 1.0761 - val_accuracy: 0.7261 - val_loss: 1.0634\n",
      "Epoch 3/20\n",
      "\u001b[1m11/11\u001b[0m \u001b[32m━━━━━━━━━━━━━━━━━━━━\u001b[0m\u001b[37m\u001b[0m \u001b[1m0s\u001b[0m 17ms/step - accuracy: 0.6483 - loss: 1.0197 - val_accuracy: 0.8185 - val_loss: 0.9746\n",
      "Epoch 4/20\n",
      "\u001b[1m11/11\u001b[0m \u001b[32m━━━━━━━━━━━━━━━━━━━━\u001b[0m\u001b[37m\u001b[0m \u001b[1m0s\u001b[0m 16ms/step - accuracy: 0.7652 - loss: 0.8800 - val_accuracy: 0.8680 - val_loss: 0.7659\n",
      "Epoch 5/20\n",
      "\u001b[1m11/11\u001b[0m \u001b[32m━━━━━━━━━━━━━━━━━━━━\u001b[0m\u001b[37m\u001b[0m \u001b[1m0s\u001b[0m 23ms/step - accuracy: 0.8420 - loss: 0.6491 - val_accuracy: 0.8680 - val_loss: 0.5268\n",
      "Epoch 6/20\n",
      "\u001b[1m11/11\u001b[0m \u001b[32m━━━━━━━━━━━━━━━━━━━━\u001b[0m\u001b[37m\u001b[0m \u001b[1m0s\u001b[0m 20ms/step - accuracy: 0.8841 - loss: 0.4416 - val_accuracy: 0.8713 - val_loss: 0.3966\n",
      "Epoch 7/20\n",
      "\u001b[1m11/11\u001b[0m \u001b[32m━━━━━━━━━━━━━━━━━━━━\u001b[0m\u001b[37m\u001b[0m \u001b[1m0s\u001b[0m 17ms/step - accuracy: 0.9387 - loss: 0.2585 - val_accuracy: 0.8812 - val_loss: 0.3693\n",
      "Epoch 8/20\n",
      "\u001b[1m11/11\u001b[0m \u001b[32m━━━━━━━━━━━━━━━━━━━━\u001b[0m\u001b[37m\u001b[0m \u001b[1m0s\u001b[0m 19ms/step - accuracy: 0.9562 - loss: 0.1709 - val_accuracy: 0.8779 - val_loss: 0.3828\n",
      "Epoch 9/20\n",
      "\u001b[1m11/11\u001b[0m \u001b[32m━━━━━━━━━━━━━━━━━━━━\u001b[0m\u001b[37m\u001b[0m \u001b[1m0s\u001b[0m 19ms/step - accuracy: 0.9770 - loss: 0.1149 - val_accuracy: 0.8812 - val_loss: 0.4073\n",
      "Epoch 10/20\n",
      "\u001b[1m11/11\u001b[0m \u001b[32m━━━━━━━━━━━━━━━━━━━━\u001b[0m\u001b[37m\u001b[0m \u001b[1m0s\u001b[0m 18ms/step - accuracy: 0.9808 - loss: 0.0912 - val_accuracy: 0.8779 - val_loss: 0.4300\n",
      "Epoch 10: early stopping\n",
      "\u001b[1m10/10\u001b[0m \u001b[32m━━━━━━━━━━━━━━━━━━━━\u001b[0m\u001b[37m\u001b[0m \u001b[1m0s\u001b[0m 2ms/step - accuracy: 0.8737 - loss: 0.4755 \n",
      "Test Loss: 0.4300309419631958\n",
      "Test Accuracy: 0.8778877854347229\n"
     ]
    }
   ],
   "source": [
    "# Train the model \n",
    "history = model.fit(X_resampled, y_resampled, validation_data=(X_test, y_test), epochs=20, batch_size=256, verbose=1, callbacks=[early_stop])\n",
    "\n",
    "# Evaluate the model\n",
    "loss, accuracy = model.evaluate(X_test, y_test, verbose=1)\n",
    "print(f\"Test Loss: {loss}\")\n",
    "print(f\"Test Accuracy: {accuracy}\")"
   ]
  },
  {
   "cell_type": "code",
   "execution_count": 33,
   "metadata": {},
   "outputs": [
    {
     "name": "stdout",
     "output_type": "stream",
     "text": [
      "\u001b[1m10/10\u001b[0m \u001b[32m━━━━━━━━━━━━━━━━━━━━\u001b[0m\u001b[37m\u001b[0m \u001b[1m0s\u001b[0m 18ms/step\n"
     ]
    }
   ],
   "source": [
    "# Predict the labels for the test set\n",
    "y_pred = model.predict(X_test)\n",
    "y_pred_classes = np.argmax(y_pred, axis=1)\n",
    "y_true = np.argmax(y_test, axis=1)"
   ]
  },
  {
   "cell_type": "markdown",
   "metadata": {},
   "source": [
    "# Conclusion\n",
    "### Confusion Matrix\n",
    "A confusion matrix is simply a square matrix that reports the counts of the true positive (TP), true negative (TN), false positive (FP), and false negative (FN) predictions of a classifier, which is represented by a matrix nxn with the rows being labeled with the classes and the columns labeled with the predicted classes (Provost and Fawcett, 2013). In this study, we will deal with a 3x3 Matrix, as we have 3 classes in our target value.\n",
    "\n",
    "### Results\n",
    "After the model is fit, the model evalutation performed with an accuracy of 87%, which seems to be a good model. We can see by looking at the confusion matrix that most prediction are correctly predicted."
   ]
  },
  {
   "cell_type": "code",
   "execution_count": 34,
   "metadata": {},
   "outputs": [
    {
     "data": {
      "image/png": "[encoded data removed]",
      "text/plain": [
       "<Figure size 800x600 with 2 Axes>"
      ]
     },
     "metadata": {},
     "output_type": "display_data"
    },
    {
     "name": "stdout",
     "output_type": "stream",
     "text": [
      "              precision    recall  f1-score   support\n",
      "\n",
      "    Negative       0.67      0.54      0.60        26\n",
      "     Neutral       0.83      0.77      0.80        56\n",
      "    Positive       0.91      0.95      0.93       221\n",
      "\n",
      "    accuracy                           0.88       303\n",
      "   macro avg       0.80      0.75      0.77       303\n",
      "weighted avg       0.87      0.88      0.87       303\n",
      "\n"
     ]
    }
   ],
   "source": [
    "# Generate the confusion matrix\n",
    "conf_matrix = confusion_matrix(y_true, y_pred_classes)\n",
    "\n",
    "# Plot the confusion matrix\n",
    "plt.figure(figsize=(8, 6))\n",
    "sns.heatmap(conf_matrix, annot=True, fmt='d', cmap='Blues', xticklabels=one_hot.columns, yticklabels=one_hot.columns)\n",
    "plt.ylabel('Actual')\n",
    "plt.xlabel('Predicted')\n",
    "plt.title('Confusion Matrix')\n",
    "plt.show()\n",
    "\n",
    "# Print classification report\n",
    "print(classification_report(y_true, y_pred_classes, target_names=one_hot.columns))"
   ]
  },
  {
   "cell_type": "markdown",
   "metadata": {},
   "source": [
    "# References\n",
    "\n",
    "1. Analytics Vidhya (2018). Natural Language Processing for Beginners: Using TextBlob. [online] Analytics Vidhya. Available at: https://www.analyticsvidhya.com/blog/2018/02/natural-language-processing-for-beginners-using-textblob/.\n",
    "\n",
    "2. Andriy Burkov (2019). THE HUNDRED-PAGE MACHINE LEARNING BOOK. Andriy Burkov\n",
    "\n",
    "3. Grus, J. (2015). Data Science from Scratch. ‘O’Reilly Media, Inc.’\n",
    "\n",
    "4. Hastie, T., Tibshirani, R. and Friedman, J.H. (2009). The Elements of Statistical Learning. Springer.\n",
    "\n",
    "5. IBM (2023). What is Random Forest? | IBM. [online] www.ibm.com. Available at: https://www.ibm.com/topics/random-forest.\n",
    "\n",
    "6. IBM (2024). AI vs. machine learning vs. deep learning vs. neural networks | IBM. [online] www.ibm.com. Available at: https://www.ibm.com/think/topics/ai-vs-machine-learning-vs-deep-learning-vs-neural-networks.\n",
    "\n",
    "7. Müller, A.C. and Guido, S. (2017). Introduction to machine learning with Python : a guide for data scientists. Beijing: O’reilly.\n",
    "\n",
    "8. Nitin Indurkhya and Damerau, F.J. (2010). Handbook of natural language processing. Boca Raton, Fl: Chapman & Hall/Crc.\n",
    "\n",
    "9. Oppermann, A. (2021). Activation Functions in Deep Learning: Sigmoid, tanh, ReLU. [online] KI Tutorials. Available at: https://artemoppermann.com/activation-functions-in-deep-learning-sigmoid-tanh-relu/#:~:text=Activation%20functions%20add%20a%20nonlinear [Accessed 30 May 2024].\n",
    "\n",
    "10. Provost, F. and Fawcett, T. (2013). Data science for business : what you need to know about data mining and data-analytic thinking. Sebastopol, CA: O’Reilly Media.\n",
    "\n",
    "11. Raschka, S. and Mirjalili, V. (2019). Python machine learning : machine learning and deep learning with python, scikit-learn, and tensorflow 2. Birmingham: Packt Publishing, Limited.\n",
    "\n",
    "\n",
    "### MODELS\n",
    "\n",
    "12. Chollet, F. (2020). The Sequential model. [online] keras.io. Available at: https://keras.io/guides/sequential_model/.\n",
    "\n",
    "13. scikit-learn.org. (n.d.). 3.2.4.3.2. sklearn.ensemble.RandomForestRegressor — scikit-learn 0.23.2 documentation. [online] Available at: https://scikit-learn.org/stable/modules/generated/sklearn.ensemble.RandomForestRegressor.html#sklearn.ensemble.RandomForestRegressor.\n",
    "\n",
    "14. scikit-learn developers (2019). sklearn.linear_model.LinearRegression — scikit-learn 0.22 documentation. [online] Scikit-learn.org. Available at: https://scikit-learn.org/stable/modules/generated/sklearn.linear_model.LinearRegression.html.\n"
   ]
  },
  {
   "cell_type": "code",
   "execution_count": null,
   "metadata": {},
   "outputs": [],
   "source": []
  }
 ],
 "metadata": {
  "colab": {
   "authorship_tag": "ABX9TyOmycDM2BzUb3eRb/mnza6i",
   "provenance": []
  },
  "kernelspec": {
   "display_name": "Python 3 (ipykernel)",
   "language": "python",
   "name": "python3"
  },
  "language_info": {
   "codemirror_mode": {
    "name": "ipython",
    "version": 3
   },
   "file_extension": ".py",
   "mimetype": "text/x-python",
   "name": "python",
   "nbconvert_exporter": "python",
   "pygments_lexer": "ipython3",
   "version": "3.11.7"
  }
 },
 "nbformat": 4,
 "nbformat_minor": 1
}
